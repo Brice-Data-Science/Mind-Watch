{
 "cells": [
  {
   "cell_type": "code",
   "execution_count": 1,
   "id": "dd6205c2-e70c-4291-b183-f1f7e47ea70d",
   "metadata": {},
   "outputs": [
    {
     "ename": "SyntaxError",
     "evalue": "invalid syntax (775913575.py, line 1)",
     "output_type": "error",
     "traceback": [
      "\u001b[1;36m  Cell \u001b[1;32mIn[1], line 1\u001b[1;36m\u001b[0m\n\u001b[1;33m    data = ..data\\raw\\train.csv\u001b[0m\n\u001b[1;37m           ^\u001b[0m\n\u001b[1;31mSyntaxError\u001b[0m\u001b[1;31m:\u001b[0m invalid syntax\n"
     ]
    }
   ],
   "source": [
    "data = ..data\\raw\\train.csv\n",
    "print(data.describe())"
   ]
  },
  {
   "cell_type": "code",
   "execution_count": 2,
   "id": "893ca464-e955-47a9-8d04-50729c3c84b2",
   "metadata": {},
   "outputs": [
    {
     "name": "stdout",
     "output_type": "stream",
     "text": [
      "                  id            Age  Academic Pressure  Work Pressure  \\\n",
      "count  140700.000000  140700.000000       27897.000000  112782.000000   \n",
      "mean    70349.500000      40.388621           3.142273       2.998998   \n",
      "std     40616.735775      12.384099           1.380457       1.405771   \n",
      "min         0.000000      18.000000           1.000000       1.000000   \n",
      "25%     35174.750000      29.000000           2.000000       2.000000   \n",
      "50%     70349.500000      42.000000           3.000000       3.000000   \n",
      "75%    105524.250000      51.000000           4.000000       4.000000   \n",
      "max    140699.000000      60.000000           5.000000       5.000000   \n",
      "\n",
      "               CGPA  Study Satisfaction  Job Satisfaction  Work/Study Hours  \\\n",
      "count  27898.000000        27897.000000     112790.000000     140700.000000   \n",
      "mean       7.658636            2.944940          2.974404          6.252679   \n",
      "std        1.464466            1.360197          1.416078          3.853615   \n",
      "min        5.030000            1.000000          1.000000          0.000000   \n",
      "25%        6.290000            2.000000          2.000000          3.000000   \n",
      "50%        7.770000            3.000000          3.000000          6.000000   \n",
      "75%        8.920000            4.000000          4.000000         10.000000   \n",
      "max       10.000000            5.000000          5.000000         12.000000   \n",
      "\n",
      "       Financial Stress     Depression  \n",
      "count     140696.000000  140700.000000  \n",
      "mean           2.988983       0.181713  \n",
      "std            1.413633       0.385609  \n",
      "min            1.000000       0.000000  \n",
      "25%            2.000000       0.000000  \n",
      "50%            3.000000       0.000000  \n",
      "75%            4.000000       0.000000  \n",
      "max            5.000000       1.000000  \n"
     ]
    }
   ],
   "source": [
    "import pandas as pd\n",
    "\n",
    "data = pd.read_csv(\"../../data/raw/train.csv\")\n",
    "print(data.describe())"
   ]
  },
  {
   "cell_type": "code",
   "execution_count": 3,
   "id": "2373292e-ce7d-405d-be40-c35aef3081dd",
   "metadata": {},
   "outputs": [
    {
     "ename": "SyntaxError",
     "evalue": "'(' was never closed (796660976.py, line 1)",
     "output_type": "error",
     "traceback": [
      "\u001b[1;36m  Cell \u001b[1;32mIn[3], line 1\u001b[1;36m\u001b[0m\n\u001b[1;33m    print(data.describe()loc['mean', 'min', 'max'].T\u001b[0m\n\u001b[1;37m         ^\u001b[0m\n\u001b[1;31mSyntaxError\u001b[0m\u001b[1;31m:\u001b[0m '(' was never closed\n"
     ]
    }
   ],
   "source": [
    "print(data.describe()loc['mean', 'min', 'max'].T\n",
    "      "
   ]
  },
  {
   "cell_type": "code",
   "execution_count": 4,
   "id": "9b0faf7a-17a4-4477-a21b-0f500c49ff67",
   "metadata": {},
   "outputs": [
    {
     "ename": "SyntaxError",
     "evalue": "invalid syntax. Perhaps you forgot a comma? (686386448.py, line 1)",
     "output_type": "error",
     "traceback": [
      "\u001b[1;36m  Cell \u001b[1;32mIn[4], line 1\u001b[1;36m\u001b[0m\n\u001b[1;33m    print(data.describe()loc['mean', 'min', 'max'].T)\u001b[0m\n\u001b[1;37m          ^\u001b[0m\n\u001b[1;31mSyntaxError\u001b[0m\u001b[1;31m:\u001b[0m invalid syntax. Perhaps you forgot a comma?\n"
     ]
    }
   ],
   "source": [
    "print(data.describe()loc['mean', 'min', 'max'].T)"
   ]
  },
  {
   "cell_type": "code",
   "execution_count": 5,
   "id": "4da12f73-bdf2-40c5-92b7-1330b3484964",
   "metadata": {},
   "outputs": [
    {
     "ename": "SyntaxError",
     "evalue": "invalid syntax. Perhaps you forgot a comma? (1757820856.py, line 4)",
     "output_type": "error",
     "traceback": [
      "\u001b[1;36m  Cell \u001b[1;32mIn[5], line 4\u001b[1;36m\u001b[0m\n\u001b[1;33m    print(data.describe()loc['mean', 'min', 'max'].T)\u001b[0m\n\u001b[1;37m          ^\u001b[0m\n\u001b[1;31mSyntaxError\u001b[0m\u001b[1;31m:\u001b[0m invalid syntax. Perhaps you forgot a comma?\n"
     ]
    }
   ],
   "source": [
    "import pandas as pd\n",
    "\n",
    "data = pd.read_csv(\"../../data/raw/train.csv\")\n",
    "print(data.describe()loc['mean', 'min', 'max'].T)"
   ]
  },
  {
   "cell_type": "code",
   "execution_count": 6,
   "id": "2bb8d583-b2e7-47d9-85cd-115edcba0f6e",
   "metadata": {},
   "outputs": [
    {
     "name": "stdout",
     "output_type": "stream",
     "text": [
      "                            mean    min       max\n",
      "id                  70349.500000   0.00  140699.0\n",
      "Age                    40.388621  18.00      60.0\n",
      "Academic Pressure       3.142273   1.00       5.0\n",
      "Work Pressure           2.998998   1.00       5.0\n",
      "CGPA                    7.658636   5.03      10.0\n",
      "Study Satisfaction      2.944940   1.00       5.0\n",
      "Job Satisfaction        2.974404   1.00       5.0\n",
      "Work/Study Hours        6.252679   0.00      12.0\n",
      "Financial Stress        2.988983   1.00       5.0\n",
      "Depression              0.181713   0.00       1.0\n"
     ]
    }
   ],
   "source": [
    "print(data.describe().loc[['mean', 'min', 'max']].T)\n"
   ]
  },
  {
   "cell_type": "code",
   "execution_count": null,
   "id": "59a4f1ee-e7f3-471e-b257-2533bdf97efe",
   "metadata": {},
   "outputs": [],
   "source": []
  }
 ],
 "metadata": {
  "kernelspec": {
   "display_name": "Python 3 (ipykernel)",
   "language": "python",
   "name": "python3"
  },
  "language_info": {
   "codemirror_mode": {
    "name": "ipython",
    "version": 3
   },
   "file_extension": ".py",
   "mimetype": "text/x-python",
   "name": "python",
   "nbconvert_exporter": "python",
   "pygments_lexer": "ipython3",
   "version": "3.12.5"
  }
 },
 "nbformat": 4,
 "nbformat_minor": 5
}
